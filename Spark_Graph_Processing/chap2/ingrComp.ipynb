{
 "cells": [
  {
   "cell_type": "markdown",
   "metadata": {},
   "source": [
    "data download(http://yongyeol.com/2011/12/15/paper-flavor-network.html)"
   ]
  },
  {
   "cell_type": "code",
   "execution_count": 2,
   "metadata": {
    "collapsed": true
   },
   "outputs": [],
   "source": [
    "import org.apache.spark.graphx._\n",
    "import org.apache.spark.rdd._"
   ]
  },
  {
   "cell_type": "code",
   "execution_count": 3,
   "metadata": {
    "collapsed": true
   },
   "outputs": [],
   "source": [
    "import scala.io.Source"
   ]
  },
  {
   "cell_type": "code",
   "execution_count": 4,
   "metadata": {
    "collapsed": false
   },
   "outputs": [
    {
     "name": "stdout",
     "output_type": "stream",
     "text": [
      "# id\tingredient name\tcategory\n",
      "0\tmagnolia_tripetala\tflower\n",
      "1\tcalyptranthes_parriculata\tplant\n",
      "2\tchamaecyparis_pisifera_oil\tplant derivative\n",
      "3\tmackerel\tfish/seafood\n",
      "4\tmimusops_elengi_flower\tflower\n",
      "5\thyssop\therb\n"
     ]
    }
   ],
   "source": [
    "Source.fromFile(\"./data/ingr_info.tsv\").getLines().take(7).foreach(println)"
   ]
  },
  {
   "cell_type": "code",
   "execution_count": 5,
   "metadata": {
    "collapsed": false
   },
   "outputs": [
    {
     "name": "stdout",
     "output_type": "stream",
     "text": [
      "# id\tCompound name\tCAS number\n",
      "0\tjasmone\t488-10-8\n",
      "1\t5-methylhexanoic_acid\t628-46-6\n",
      "2\tl-glutamine\t56-85-9\n",
      "3\t1-methyl-3-methoxy-4-isopropylbenzene\t1076-56-8\n",
      "4\tmethyl-3-phenylpropionate\t103-25-3\n",
      "5\t3-mercapto-2-methylpentan-1-ol_(racemic)\t227456-27-1\n"
     ]
    }
   ],
   "source": [
    "Source.fromFile(\"./data/comp_info.tsv\").getLines().take(7).foreach(println)"
   ]
  },
  {
   "cell_type": "code",
   "execution_count": 6,
   "metadata": {
    "collapsed": false
   },
   "outputs": [
    {
     "name": "stdout",
     "output_type": "stream",
     "text": [
      "# ingredient id\tcompound id\n",
      "1392\t906\n",
      "1259\t861\n",
      "1079\t673\n",
      "22\t906\n",
      "103\t906\n",
      "1005\t906\n"
     ]
    }
   ],
   "source": [
    "Source.fromFile(\"./data/ingr_comp.tsv\").getLines().take(7).foreach(println)"
   ]
  },
  {
   "cell_type": "code",
   "execution_count": 7,
   "metadata": {
    "collapsed": true
   },
   "outputs": [],
   "source": [
    "class FNNode(val name: String)\n",
    "case class Ingredient(override val name: String, category: String) extends FNNode(name)\n",
    "case class Compound(override val name: String, cas: String) extends FNNode(name)"
   ]
  },
  {
   "cell_type": "code",
   "execution_count": 8,
   "metadata": {
    "collapsed": false
   },
   "outputs": [],
   "source": [
    "val ingredients: RDD[(VertexId, FNNode)] = \n",
    "sc.textFile(\"./data/ingr_info.tsv\").\n",
    "      filter(! _.startsWith(\"#\")).\n",
    "      map {line => \n",
    "             val row = line split '\\t'\n",
    "             (row(0).toInt, Ingredient(row(1), row(2)))\n",
    "          } "
   ]
  },
  {
   "cell_type": "code",
   "execution_count": 9,
   "metadata": {
    "collapsed": true
   },
   "outputs": [],
   "source": [
    "val compounds: RDD[(VertexId, FNNode)] = \n",
    "sc.textFile(\"./data/comp_info.tsv\").\n",
    "      filter(! _.startsWith(\"#\")).\n",
    "      map {line => \n",
    "             val row = line split '\\t'\n",
    "             (10000L + row(0).toInt, Compound(row(1), row(2)))\n",
    "          }     "
   ]
  },
  {
   "cell_type": "code",
   "execution_count": 10,
   "metadata": {
    "collapsed": true
   },
   "outputs": [],
   "source": [
    "val links: RDD[Edge[Int]] = \n",
    "  sc.textFile(\"./data/ingr_comp.tsv\").\n",
    "     filter(! _.startsWith(\"#\")).\n",
    "     map {line => \n",
    "        val row = line split '\\t'\n",
    "        (Edge(row(0).toInt, 10000L + row(1).toInt, 1))\n",
    "     }"
   ]
  },
  {
   "cell_type": "code",
   "execution_count": 15,
   "metadata": {
    "collapsed": false
   },
   "outputs": [],
   "source": [
    "val nodes = ingredients++compounds\n",
    "val foodNetwork = Graph(nodes, links)"
   ]
  },
  {
   "cell_type": "code",
   "execution_count": 16,
   "metadata": {
    "collapsed": true
   },
   "outputs": [],
   "source": [
    "def showTriplet(t: EdgeTriplet[FNNode,Int]): String =\n",
    "\"The ingredient \" ++ t.srcAttr.name ++ \" contains \" ++ t.dstAttr.name"
   ]
  },
  {
   "cell_type": "code",
   "execution_count": null,
   "metadata": {
    "collapsed": true
   },
   "outputs": [],
   "source": [
    "foodNetwork.triplets.take(1).\n",
    "     foreach(showTriplet _ andThen println _)"
   ]
  },
  {
   "cell_type": "code",
   "execution_count": null,
   "metadata": {
    "collapsed": true
   },
   "outputs": [],
   "source": []
  }
 ],
 "metadata": {
  "kernelspec": {
   "display_name": "Scala 2.10.4",
   "language": "scala",
   "name": "scala"
  },
  "language_info": {
   "name": "scala"
  }
 },
 "nbformat": 4,
 "nbformat_minor": 0
}
