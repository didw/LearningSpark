{
 "cells": [
  {
   "cell_type": "markdown",
   "metadata": {},
   "source": [
    "data download(http://snap.stanford.edu/data/egonets-Gplus.html)"
   ]
  },
  {
   "cell_type": "code",
   "execution_count": 13,
   "metadata": {
    "collapsed": false
   },
   "outputs": [],
   "source": [
    "import org.apache.spark.graphx._\n",
    "import org.apache.spark.rdd._\n",
    "import scala.math.abs\n",
    "import breeze.linalg.SparseVector\n",
    "import scala.io.Source"
   ]
  },
  {
   "cell_type": "code",
   "execution_count": 14,
   "metadata": {
    "collapsed": true
   },
   "outputs": [],
   "source": [
    "type Feature = breeze.linalg.SparseVector[Int]"
   ]
  },
  {
   "cell_type": "code",
   "execution_count": 15,
   "metadata": {
    "collapsed": false
   },
   "outputs": [],
   "source": [
    "val featureMap: Map[Long, Feature] = \n",
    "  Source.fromFile(\"./data/gplus/100129275726588145876.feat\").\n",
    "     getLines().\n",
    "     map{line => \n",
    "     val row = line split ' '\n",
    "     val key = abs(row.head.hashCode.toLong)\n",
    "     val feat = SparseVector(row.tail.map(_.toInt))\n",
    "     (key, feat)\n",
    "     }.toMap"
   ]
  },
  {
   "cell_type": "code",
   "execution_count": 20,
   "metadata": {
    "collapsed": true
   },
   "outputs": [],
   "source": [
    "val edges: RDD[Edge[Int]] = \n",
    "  sc.textFile(\"./data/gplus/100129275726588145876.edges\").\n",
    "     map {line => \n",
    "        val row = line split ' '\n",
    "        val srcId = abs(row(0).hashCode.toLong)\n",
    "        val dstId = abs(row(1).hashCode.toLong)\n",
    "        val srcFeat = featureMap(srcId)\n",
    "        val dstFeat = featureMap(dstId)\n",
    "        val numCommonFeats = srcFeat dot dstFeat\n",
    "        Edge(srcId, dstId, numCommonFeats)\n",
    "     }"
   ]
  },
  {
   "cell_type": "code",
   "execution_count": 21,
   "metadata": {
    "collapsed": false
   },
   "outputs": [],
   "source": [
    "val egoNetwork: Graph[Int,Int] = Graph.fromEdges(edges, 1)"
   ]
  },
  {
   "cell_type": "code",
   "execution_count": 22,
   "metadata": {
    "collapsed": false
   },
   "outputs": [
    {
     "data": {
      "text/plain": [
       "107934"
      ]
     },
     "execution_count": 22,
     "metadata": {},
     "output_type": "execute_result"
    }
   ],
   "source": [
    "egoNetwork.edges.filter(_.attr == 3).count()\n",
    "egoNetwork.edges.filter(_.attr == 2).count()\n",
    "egoNetwork.edges.filter(_.attr == 1).count()"
   ]
  },
  {
   "cell_type": "code",
   "execution_count": null,
   "metadata": {
    "collapsed": true
   },
   "outputs": [],
   "source": []
  }
 ],
 "metadata": {
  "kernelspec": {
   "display_name": "Scala 2.10.4",
   "language": "scala",
   "name": "scala"
  },
  "language_info": {
   "name": "scala"
  }
 },
 "nbformat": 4,
 "nbformat_minor": 0
}
